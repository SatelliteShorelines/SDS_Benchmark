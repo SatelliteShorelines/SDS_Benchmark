{
 "cells": [
  {
   "cell_type": "markdown",
   "id": "66799a02-f6b4-4ebe-8890-867d1f2c53e3",
   "metadata": {
    "tags": []
   },
   "source": [
    "# *SDS_Benchmark*: Landsat vs Sentinel-2 for CoastSat and SHOREX\n",
    "\n",
    "(Work in progress)\n",
    "\n",
    "Here we compare the accuracy of the SDS derived from Landsat and Sentinel-2 for CoastSat and SHOREX (the other algorithms are composites).\n",
    "\n",
    "When running this notebook you will compare all the submitted time-series, the plots showing the comparisons and reporting the accuracy metrics are saved under **/evaluation/Landsat_vs_S2**. You can visualise each individual transect under **/evaluation/Landsat_vs_S2**\n",
    "\n",
    "## Initial settings\n",
    "\n",
    "To run this notebook you will need basic Python packages installed: `numpy`, `scipy`, `pandas`, `matplotlib`, `pytz`.\n",
    "\n",
    "If you have [CoastSat](https://github.com/kvos/CoastSat) installed, you can activate that envrionment as it has all the necessary packages."
   ]
  },
  {
   "cell_type": "code",
   "execution_count": 1,
   "id": "3df4f15e-1516-4ec9-87c6-681fe18ceb12",
   "metadata": {},
   "outputs": [
    {
     "name": "stdout",
     "output_type": "stream",
     "text": [
      "\n",
      "Benchmark datasets available:\n",
      "['DUCK', 'NARRABEEN', 'TORREYPINES', 'TRUCVERT']\n",
      "\n",
      "Loaded sites_info.txt.\n",
      "NARRABEEN: {'beach_slope': 0.1, 'contour_level': 0.7, 'epsg': 28356}\n",
      "DUCK: {'beach_slope': 0.1, 'contour_level': 0.585, 'epsg': 32119}\n",
      "TRUCVERT: {'beach_slope': 0.05, 'contour_level': 1.5, 'epsg': 32630}\n",
      "TORREYPINES: {'beach_slope': 0.045, 'contour_level': 0.792, 'epsg': 26946}\n",
      "CALAMILLOR: {'beach_slope': 0.1, 'contour_level': 0, 'epsg': 2062}\n",
      "\n",
      "Submitted shorelines: ['team_CASSIE', 'team_CoastSat', 'team_Deltares', 'team_SHOREX', 'team_UQMAO']\n"
     ]
    }
   ],
   "source": [
    "%load_ext autoreload\n",
    "%autoreload 2\n",
    "import os\n",
    "import numpy as np\n",
    "import pickle\n",
    "import warnings\n",
    "warnings.filterwarnings(\"ignore\")\n",
    "import matplotlib\n",
    "import matplotlib.pyplot as plt\n",
    "from matplotlib import patches as mpatches\n",
    "from matplotlib import gridspec\n",
    "import colorcet as cc\n",
    "from matplotlib.cm import get_cmap\n",
    "import pandas as pd\n",
    "from datetime import datetime, timedelta\n",
    "from scipy import interpolate\n",
    "from scipy import stats\n",
    "import pytz\n",
    "import json\n",
    "import pdb\n",
    "import string\n",
    "# import utils module located in the repository (utils.py)\n",
    "import utils\n",
    "plt.ion()\n",
    "letters = string.ascii_lowercase\n",
    "\n",
    "# filepaths to all the datasets\n",
    "fp_datasets = os.path.join(os.path.join(os.getcwd(),'datasets'))\n",
    "names_datasets = os.listdir(fp_datasets)\n",
    "names_datasets = [_ for _ in names_datasets if _ not in ['README.md','sites_info.txt','CALAMILLOR']]\n",
    "print('\\nBenchmark datasets available:\\n%s'%(names_datasets))\n",
    "                \n",
    "# load site info dict if exists or create\n",
    "fp_info = os.path.join(fp_datasets,'sites_info.txt')\n",
    "if os.path.exists(fp_info):\n",
    "    with open(fp_info,'r') as f: sites_info = json.load(f)  \n",
    "    print('\\nLoaded sites_info.txt.')\n",
    "    for key in sites_info.keys(): print('%s: %s'%(key,sites_info[key]))\n",
    "\n",
    "# filepaths to submissions\n",
    "fp_submissions = os.path.join(os.path.join(os.getcwd(),'submissions'))\n",
    "submissions = [_ for _ in os.listdir(fp_submissions) if _ not in ['README.md','example_submission']]\n",
    "print('\\nSubmitted shorelines: %s'%submissions)\n",
    "\n",
    "# folder where to save all the figures and outputs\n",
    "fp_eval =  os.path.join(os.getcwd(),'evaluation')\n",
    "if not os.path.exists(fp_eval): os.makedirs(fp_eval)"
   ]
  },
  {
   "cell_type": "code",
   "execution_count": null,
   "id": "50cfd27f-cd69-48c3-b791-5f88304e2d5d",
   "metadata": {},
   "outputs": [],
   "source": []
  }
 ],
 "metadata": {
  "kernelspec": {
   "display_name": "Python 3 (ipykernel)",
   "language": "python",
   "name": "python3"
  },
  "language_info": {
   "codemirror_mode": {
    "name": "ipython",
    "version": 3
   },
   "file_extension": ".py",
   "mimetype": "text/x-python",
   "name": "python",
   "nbconvert_exporter": "python",
   "pygments_lexer": "ipython3",
   "version": "3.8.13"
  }
 },
 "nbformat": 4,
 "nbformat_minor": 5
}
